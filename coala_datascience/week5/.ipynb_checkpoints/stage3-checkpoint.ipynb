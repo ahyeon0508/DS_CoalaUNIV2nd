{
 "cells": [
  {
   "cell_type": "code",
   "execution_count": 1,
   "metadata": {},
   "outputs": [],
   "source": [
    "import pandas as pd\n",
    "\n",
    "df = pd.read_csv('data/house.csv')"
   ]
  },
  {
   "cell_type": "code",
   "execution_count": 2,
   "metadata": {},
   "outputs": [],
   "source": [
    "house_data = df.drop(['id', 'date'], axis = 1)"
   ]
  },
  {
   "cell_type": "code",
   "execution_count": 3,
   "metadata": {},
   "outputs": [
    {
     "name": "stdout",
     "output_type": "stream",
     "text": [
      "모든 데이터 (21613, 18)\n",
      "train set (13832, 18) (13832,)\n",
      "valid set (3458, 18) (3458,)\n",
      "test set (4323, 18) (4323,)\n"
     ]
    }
   ],
   "source": [
    "from sklearn.model_selection import train_test_split\n",
    "\n",
    "train_data = house_data.drop(['price'], axis = 1) # input\n",
    "target_data = house_data['price'] # output\n",
    "\n",
    "# train : test.set . 8 :2 나눠주기\n",
    "x_train, x_test, y_train, y_test = train_test_split(train_data, target_data, test_size=0.2)\n",
    "\n",
    "# 다시 train set을 8:2 나눠서... validation set\n",
    "x_train, x_valid, y_train, y_valid = train_test_split(x_train, y_train, test_size=0.2)\n",
    "\n",
    "print('모든 데이터', train_data.shape)\n",
    "print('train set', x_train.shape, y_train.shape)\n",
    "print('valid set', x_valid.shape, y_valid.shape)\n",
    "print('test set', x_test.shape, y_test.shape)\n"
   ]
  },
  {
   "cell_type": "code",
   "execution_count": 4,
   "metadata": {},
   "outputs": [
    {
     "name": "stdout",
     "output_type": "stream",
     "text": [
      "train set score 0.7111529340115866\n",
      "valid set score 0.6653390413169191\n"
     ]
    }
   ],
   "source": [
    "from sklearn.linear_model import LinearRegression\n",
    "\n",
    "lr = LinearRegression()\n",
    "lr.fit(x_train, y_train)\n",
    "\n",
    "print('train set score', lr.score(x_train, y_train))\n",
    "print('valid set score', lr.score(x_valid, y_valid))"
   ]
  },
  {
   "cell_type": "code",
   "execution_count": 5,
   "metadata": {},
   "outputs": [
    {
     "name": "stdout",
     "output_type": "stream",
     "text": [
      "train set score 0.8281793421213136\n",
      "valid set score 0.7989436635833672\n"
     ]
    }
   ],
   "source": [
    "from sklearn.preprocessing import PolynomialFeatures\n",
    "from sklearn.pipeline import make_pipeline\n",
    "\n",
    "# 2차가 더 좋은 것을 볼 수 있다\n",
    "model = make_pipeline(PolynomialFeatures(2), LinearRegression())\n",
    "model.fit(x_train, y_train)\n",
    "\n",
    "print('train set score', model.score(x_train, y_train))\n",
    "print('valid set score', model.score(x_valid, y_valid))"
   ]
  },
  {
   "cell_type": "code",
   "execution_count": 6,
   "metadata": {},
   "outputs": [
    {
     "name": "stdout",
     "output_type": "stream",
     "text": [
      "train set score 0.8733458312900995\n",
      "valid set score 0.0985646512703452\n"
     ]
    }
   ],
   "source": [
    "from sklearn.preprocessing import PolynomialFeatures\n",
    "from sklearn.pipeline import make_pipeline\n",
    "\n",
    "model3 = make_pipeline(PolynomialFeatures(3), LinearRegression())\n",
    "model3.fit(x_train, y_train)\n",
    "\n",
    "print('train set score', model3.score(x_train, y_train))\n",
    "print('valid set score', model3.score(x_valid, y_valid))"
   ]
  },
  {
   "cell_type": "markdown",
   "metadata": {},
   "source": [
    "# 자율$1"
   ]
  },
  {
   "cell_type": "code",
   "execution_count": 7,
   "metadata": {},
   "outputs": [
    {
     "data": {
      "text/plain": [
       "array([875397.29006484])"
      ]
     },
     "execution_count": 7,
     "metadata": {},
     "output_type": "execute_result"
    }
   ],
   "source": [
    "my_data = pd.Series({\n",
    "    \"bedrooms\": 2,\n",
    "    \"bathrooms\": 2.5,\n",
    "    \"sqft_living\": 3000,\n",
    "    \"sqft_lot\": 5500,\n",
    "    \"floors\": 4,\n",
    "    \"waterfront\": 0,\n",
    "    \"view\": 0,\n",
    "    \"condition\": 3,\n",
    "    \"grade\": 9,\n",
    "    \"sqft_above\": 2350,\n",
    "    \"sqft_basement\": 500,\n",
    "    \"yr_built\": 2002,\n",
    "    \"yr_renovated\": 0,\n",
    "    \"zipcode\": 98000,\n",
    "    \"lat\": 47.5317,\n",
    "    \"long\": -122.391,\n",
    "    \"sqft_living15\": 2900,\n",
    "    \"sqft_lot15\": 3900\n",
    "})\n",
    "\n",
    "my_df = pd.DataFrame([my_data])\n",
    "\n",
    "lr.predict(my_df)"
   ]
  },
  {
   "cell_type": "markdown",
   "metadata": {},
   "source": [
    "# 자율$2"
   ]
  },
  {
   "cell_type": "markdown",
   "metadata": {},
   "source": [
    "## Decision Tree Regressor"
   ]
  },
  {
   "cell_type": "code",
   "execution_count": 8,
   "metadata": {},
   "outputs": [
    {
     "name": "stdout",
     "output_type": "stream",
     "text": [
      "train set score: 0.9993443606764301\n",
      "valid set score: 0.724674559721426\n"
     ]
    }
   ],
   "source": [
    "from sklearn.tree import DecisionTreeRegressor\n",
    "\n",
    "tree = DecisionTreeRegressor().fit(x_train, y_train)\n",
    "\n",
    "print(\"train set score:\", tree.score(x_train, y_train))\n",
    "print(\"valid set score:\", tree.score(x_valid, y_valid))"
   ]
  },
  {
   "cell_type": "markdown",
   "metadata": {},
   "source": [
    "# 자율$3"
   ]
  },
  {
   "cell_type": "code",
   "execution_count": 9,
   "metadata": {},
   "outputs": [
    {
     "ename": "NameError",
     "evalue": "name 'plt' is not defined",
     "output_type": "error",
     "traceback": [
      "\u001b[1;31m---------------------------------------------------------------------------\u001b[0m",
      "\u001b[1;31mNameError\u001b[0m                                 Traceback (most recent call last)",
      "\u001b[1;32m<ipython-input-9-b3c221f26a10>\u001b[0m in \u001b[0;36m<module>\u001b[1;34m\u001b[0m\n\u001b[0;32m      8\u001b[0m     \u001b[0mvalid_score\u001b[0m\u001b[1;33m.\u001b[0m\u001b[0mappend\u001b[0m\u001b[1;33m(\u001b[0m\u001b[0mtree\u001b[0m\u001b[1;33m.\u001b[0m\u001b[0mscore\u001b[0m\u001b[1;33m(\u001b[0m\u001b[0mx_valid\u001b[0m\u001b[1;33m,\u001b[0m \u001b[0my_valid\u001b[0m\u001b[1;33m)\u001b[0m\u001b[1;33m)\u001b[0m\u001b[1;33m\u001b[0m\u001b[1;33m\u001b[0m\u001b[0m\n\u001b[0;32m      9\u001b[0m \u001b[1;33m\u001b[0m\u001b[0m\n\u001b[1;32m---> 10\u001b[1;33m \u001b[0mplt\u001b[0m\u001b[1;33m.\u001b[0m\u001b[0mplot\u001b[0m\u001b[1;33m(\u001b[0m\u001b[0mdepth_range\u001b[0m\u001b[1;33m,\u001b[0m \u001b[0mtrain_score\u001b[0m\u001b[1;33m)\u001b[0m\u001b[1;33m\u001b[0m\u001b[1;33m\u001b[0m\u001b[0m\n\u001b[0m\u001b[0;32m     11\u001b[0m \u001b[0mplt\u001b[0m\u001b[1;33m.\u001b[0m\u001b[0mplot\u001b[0m\u001b[1;33m(\u001b[0m\u001b[0mdepth_range\u001b[0m\u001b[1;33m,\u001b[0m \u001b[0mvalid_score\u001b[0m\u001b[1;33m)\u001b[0m\u001b[1;33m\u001b[0m\u001b[1;33m\u001b[0m\u001b[0m\n\u001b[0;32m     12\u001b[0m \u001b[1;33m\u001b[0m\u001b[0m\n",
      "\u001b[1;31mNameError\u001b[0m: name 'plt' is not defined"
     ]
    }
   ],
   "source": [
    "train_score = []\n",
    "valid_score = []\n",
    "depth_range = range(1, 25)\n",
    "for depth in depth_range:\n",
    "    tree = DecisionTreeRegressor(max_depth=depth).fit(x_train, y_train)\n",
    "    \n",
    "    train_score.append(tree.score(x_train, y_train))\n",
    "    valid_score.append(tree.score(x_valid, y_valid))\n",
    "    \n",
    "plt.plot(depth_range, train_score)\n",
    "plt.plot(depth_range, valid_score)\n",
    "\n",
    "plt.legend(['Train', 'Valid'])\n",
    "\n",
    "plt.xlabel('Max Depth')\n",
    "plt.ylabel('Score')\n",
    "\n",
    "plt.show()"
   ]
  },
  {
   "cell_type": "code",
   "execution_count": null,
   "metadata": {},
   "outputs": [],
   "source": []
  }
 ],
 "metadata": {
  "kernelspec": {
   "display_name": "Python 3",
   "language": "python",
   "name": "python3"
  },
  "language_info": {
   "codemirror_mode": {
    "name": "ipython",
    "version": 3
   },
   "file_extension": ".py",
   "mimetype": "text/x-python",
   "name": "python",
   "nbconvert_exporter": "python",
   "pygments_lexer": "ipython3",
   "version": "3.7.4"
  }
 },
 "nbformat": 4,
 "nbformat_minor": 2
}
