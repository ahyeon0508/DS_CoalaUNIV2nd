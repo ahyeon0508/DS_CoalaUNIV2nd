{
 "cells": [
  {
   "cell_type": "code",
   "execution_count": 1,
   "metadata": {},
   "outputs": [],
   "source": [
    "import pandas as pd\n",
    "\n",
    "df = pd.read_csv('data/house.csv')"
   ]
  },
  {
   "cell_type": "code",
   "execution_count": 2,
   "metadata": {},
   "outputs": [],
   "source": [
    "house_data = df.drop(['id', 'date'], axis = 1)"
   ]
  },
  {
   "cell_type": "code",
   "execution_count": 3,
   "metadata": {},
   "outputs": [
    {
     "name": "stdout",
     "output_type": "stream",
     "text": [
      "모든 데이터 (21613, 18)\n",
      "train set (13832, 18) (13832,)\n",
      "valid set (3458, 18) (3458,)\n",
      "test set (4323, 18) (4323,)\n"
     ]
    }
   ],
   "source": [
    "from sklearn.model_selection import train_test_split\n",
    "\n",
    "train_data = house_data.drop(['price'], axis = 1) # input\n",
    "target_data = house_data['price'] # output\n",
    "\n",
    "# train : test.set . 8 :2 나눠주기\n",
    "x_train, x_test, y_train, y_test = train_test_split(train_data, target_data, test_size=0.2)\n",
    "\n",
    "# 다시 train set을 8:2 나눠서... validation set\n",
    "x_train, x_valid, y_train, y_valid = train_test_split(x_train, y_train, test_size=0.2)\n",
    "\n",
    "print('모든 데이터', train_data.shape)\n",
    "print('train set', x_train.shape, y_train.shape)\n",
    "print('valid set', x_valid.shape, y_valid.shape)\n",
    "print('test set', x_test.shape, y_test.shape)\n"
   ]
  },
  {
   "cell_type": "code",
   "execution_count": 4,
   "metadata": {},
   "outputs": [
    {
     "name": "stdout",
     "output_type": "stream",
     "text": [
      "train set score 0.7009534117119814\n",
      "valid set score 0.700804639957084\n"
     ]
    }
   ],
   "source": [
    "from sklearn.linear_model import LinearRegression\n",
    "\n",
    "lr = LinearRegression()\n",
    "lr.fit(x_train, y_train)\n",
    "\n",
    "print('train set score', lr.score(x_train, y_train))\n",
    "print('valid set score', lr.score(x_valid, y_valid))"
   ]
  },
  {
   "cell_type": "code",
   "execution_count": 5,
   "metadata": {},
   "outputs": [
    {
     "name": "stdout",
     "output_type": "stream",
     "text": [
      "train set score 0.8227451036030363\n",
      "valid set score 0.8383120972098383\n"
     ]
    }
   ],
   "source": [
    "from sklearn.preprocessing import PolynomialFeatures\n",
    "from sklearn.pipeline import make_pipeline\n",
    "\n",
    "# 2차가 더 좋은 것을 볼 수 있다\n",
    "model = make_pipeline(PolynomialFeatures(2), LinearRegression())\n",
    "model.fit(x_train, y_train)\n",
    "\n",
    "print('train set score', model.score(x_train, y_train))\n",
    "print('valid set score', model.score(x_valid, y_valid))"
   ]
  },
  {
   "cell_type": "code",
   "execution_count": 6,
   "metadata": {},
   "outputs": [
    {
     "name": "stdout",
     "output_type": "stream",
     "text": [
      "train set score 0.8749238268230926\n",
      "valid set score 0.7275969799344819\n"
     ]
    }
   ],
   "source": [
    "from sklearn.preprocessing import PolynomialFeatures\n",
    "from sklearn.pipeline import make_pipeline\n",
    "\n",
    "model3 = make_pipeline(PolynomialFeatures(3), LinearRegression())\n",
    "model3.fit(x_train, y_train)\n",
    "\n",
    "print('train set score', model3.score(x_train, y_train))\n",
    "print('valid set score', model3.score(x_valid, y_valid))"
   ]
  },
  {
   "cell_type": "markdown",
   "metadata": {},
   "source": [
    "# 자율$1"
   ]
  },
  {
   "cell_type": "code",
   "execution_count": 7,
   "metadata": {},
   "outputs": [
    {
     "data": {
      "text/plain": [
       "array([872536.18219229])"
      ]
     },
     "execution_count": 7,
     "metadata": {},
     "output_type": "execute_result"
    }
   ],
   "source": [
    "my_data = pd.Series({\n",
    "    \"bedrooms\": 2,\n",
    "    \"bathrooms\": 2.5,\n",
    "    \"sqft_living\": 3000,\n",
    "    \"sqft_lot\": 5500,\n",
    "    \"floors\": 4,\n",
    "    \"waterfront\": 0,\n",
    "    \"view\": 0,\n",
    "    \"condition\": 3,\n",
    "    \"grade\": 9,\n",
    "    \"sqft_above\": 2350,\n",
    "    \"sqft_basement\": 500,\n",
    "    \"yr_built\": 2002,\n",
    "    \"yr_renovated\": 0,\n",
    "    \"zipcode\": 98000,\n",
    "    \"lat\": 47.5317,\n",
    "    \"long\": -122.391,\n",
    "    \"sqft_living15\": 2900,\n",
    "    \"sqft_lot15\": 3900\n",
    "})\n",
    "\n",
    "my_df = pd.DataFrame([my_data])\n",
    "\n",
    "lr.predict(my_df)"
   ]
  },
  {
   "cell_type": "markdown",
   "metadata": {},
   "source": [
    "# 자율$2"
   ]
  },
  {
   "cell_type": "markdown",
   "metadata": {},
   "source": [
    "## Decision Tree Regressor"
   ]
  },
  {
   "cell_type": "code",
   "execution_count": 8,
   "metadata": {},
   "outputs": [
    {
     "name": "stdout",
     "output_type": "stream",
     "text": [
      "train set score: 0.9993558576010072\n",
      "valid set score: 0.7358287099923141\n"
     ]
    }
   ],
   "source": [
    "from sklearn.tree import DecisionTreeRegressor\n",
    "\n",
    "tree = DecisionTreeRegressor().fit(x_train, y_train)\n",
    "\n",
    "print(\"train set score:\", tree.score(x_train, y_train))\n",
    "print(\"valid set score:\", tree.score(x_valid, y_valid))"
   ]
  },
  {
   "cell_type": "markdown",
   "metadata": {},
   "source": [
    "# 자율$3"
   ]
  },
  {
   "cell_type": "code",
   "execution_count": 9,
   "metadata": {},
   "outputs": [
    {
     "data": {
      "text/plain": [
       "<Figure size 640x480 with 1 Axes>"
      ]
     },
     "metadata": {},
     "output_type": "display_data"
    }
   ],
   "source": [
    "import matplotlib.pyplot as plt\n",
    "\n",
    "import seaborn as sns\n",
    "sns.set()\n",
    "\n",
    "train_score = []\n",
    "valid_score = []\n",
    "depth_range = range(1, 25)\n",
    "for depth in depth_range:\n",
    "    tree = DecisionTreeRegressor(max_depth=depth).fit(x_train, y_train)\n",
    "    \n",
    "    train_score.append(tree.score(x_train, y_train))\n",
    "    valid_score.append(tree.score(x_valid, y_valid))\n",
    "    \n",
    "plt.plot(depth_range, train_score)\n",
    "plt.plot(depth_range, valid_score)\n",
    "\n",
    "plt.legend(['Train', 'Valid'])\n",
    "\n",
    "plt.xlabel('Max Depth')\n",
    "plt.ylabel('Score')\n",
    "\n",
    "plt.show()"
   ]
  },
  {
   "cell_type": "markdown",
   "metadata": {},
   "source": [
    "# homework1"
   ]
  },
  {
   "cell_type": "code",
   "execution_count": 10,
   "metadata": {},
   "outputs": [
    {
     "name": "stdout",
     "output_type": "stream",
     "text": [
      "test set score 0.6985602910320072\n"
     ]
    }
   ],
   "source": [
    "x_train1, x_test1, y_train1, y_test1 = train_test_split(train_data, target_data, test_size=0.2)\n",
    "\n",
    "from sklearn.linear_model import LinearRegression\n",
    "\n",
    "lr = LinearRegression()\n",
    "lr.fit(x_train1, y_train1)\n",
    "\n",
    "print('test set score', lr.score(x_test1, y_test1))"
   ]
  },
  {
   "cell_type": "code",
   "execution_count": 11,
   "metadata": {},
   "outputs": [
    {
     "name": "stdout",
     "output_type": "stream",
     "text": [
      "test set score 0.8326556148170775\n"
     ]
    }
   ],
   "source": [
    "from sklearn.preprocessing import PolynomialFeatures\n",
    "from sklearn.pipeline import make_pipeline\n",
    "\n",
    "model = make_pipeline(PolynomialFeatures(2), LinearRegression())\n",
    "model.fit(x_train1, y_train1)\n",
    "\n",
    "print('test set score', model.score(x_test1, y_test1))"
   ]
  },
  {
   "cell_type": "code",
   "execution_count": null,
   "metadata": {},
   "outputs": [],
   "source": []
  }
 ],
 "metadata": {
  "kernelspec": {
   "display_name": "Python 3",
   "language": "python",
   "name": "python3"
  },
  "language_info": {
   "codemirror_mode": {
    "name": "ipython",
    "version": 3
   },
   "file_extension": ".py",
   "mimetype": "text/x-python",
   "name": "python",
   "nbconvert_exporter": "python",
   "pygments_lexer": "ipython3",
   "version": "3.7.4"
  }
 },
 "nbformat": 4,
 "nbformat_minor": 2
}
