{
 "cells": [
  {
   "cell_type": "code",
   "execution_count": 1,
   "metadata": {},
   "outputs": [
    {
     "name": "stdout",
     "output_type": "stream",
     "text": [
      "Hello World!\n"
     ]
    }
   ],
   "source": [
    "print('Hello World!')"
   ]
  },
  {
   "cell_type": "markdown",
   "metadata": {},
   "source": [
    "# 큰 제목\n",
    "## 작은 제목\n",
    "\n",
    "일반텍스트\n",
    "\n",
    "*기울여주세요~*\n",
    "\n",
    "**진하게**\n",
    "안녕하세요? 저는 **000**입니다.\n",
    "\n",
    "`파이썬` `데이터` ㅎㅎ `사이언스`"
   ]
  },
  {
   "cell_type": "markdown",
   "metadata": {},
   "source": [
    "# 순서 없는 리스트\n",
    "\n",
    "- 딸기\n",
    "  - 빨간딸기\n",
    "    - 많이빨간딸기\n",
    "  - 초록딸기\n",
    "- 배\n",
    "- 참외\n",
    "- 포도\n",
    "\n",
    "# 순서 있는 리스트\n",
    "\n",
    "1. 박지성\n",
    "  1. 네덜란드\n",
    "  2. 영국\n",
    "2. 이청용\n",
    "3. 기성용"
   ]
  },
  {
   "attachments": {},
   "cell_type": "markdown",
   "metadata": {},
   "source": [
    "# 이미지와 링크 삽입하기\n",
    "\n",
    "---\n",
    "\n",
    "## 이미지\n",
    "![박지성입니다](http://newsimg.hankookilbo.com/2014/07/28/201407281931795779_1.jpg)\n",
    "\n",
    "## 링크\n",
    "[링크텍스트](http://naver.com//)"
   ]
  },
  {
   "cell_type": "markdown",
   "metadata": {},
   "source": [
    "## 코드 넣기\n",
    "\n",
    "코드입니다.\n",
    "```python\n",
    "print('Hello World!')\n",
    "```\n",
    "실행되지 않습니다.\n",
    "\n",
    "## 인용구\n",
    "안녕하세요\n",
    "> 저는  \n",
    "> 박지성  \n",
    "> 입니다  "
   ]
  },
  {
   "cell_type": "markdown",
   "metadata": {},
   "source": [
    "# 표만들어볼게요\n",
    "\n",
    "이름 | 전화번호 | 이메일\n",
    "- | - | -\n",
    "A | 010 | abc.com\n",
    "B | 070 | b.com"
   ]
  },
  {
   "cell_type": "code",
   "execution_count": 2,
   "metadata": {},
   "outputs": [],
   "source": [
    "import pandas as pd\n",
    "import numpy as np"
   ]
  },
  {
   "cell_type": "code",
   "execution_count": null,
   "metadata": {},
   "outputs": [],
   "source": []
  }
 ],
 "metadata": {
  "kernelspec": {
   "display_name": "Python 3",
   "language": "python",
   "name": "python3"
  },
  "language_info": {
   "codemirror_mode": {
    "name": "ipython",
    "version": 3
   },
   "file_extension": ".py",
   "mimetype": "text/x-python",
   "name": "python",
   "nbconvert_exporter": "python",
   "pygments_lexer": "ipython3",
   "version": "3.7.4"
  }
 },
 "nbformat": 4,
 "nbformat_minor": 2
}
